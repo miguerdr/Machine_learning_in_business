{
 "cells": [
  {
   "cell_type": "markdown",
   "id": "97d95180",
   "metadata": {},
   "source": [
    "# Aprendizaje automático en negocios"
   ]
  },
  {
   "cell_type": "markdown",
   "id": "396f8f47",
   "metadata": {
    "toc": true
   },
   "source": [
    "<h1>Table of Contents<span class=\"tocSkip\"></span></h1>\n",
    "<div class=\"toc\"><ul class=\"toc-item\"><li><span><a href=\"#Descarga-y-prepara-los-datos.\" data-toc-modified-id=\"Descarga-y-prepara-los-datos.-1\"><span class=\"toc-item-num\">1&nbsp;&nbsp;</span>Descarga y prepara los datos.</a></span><ul class=\"toc-item\"><li><span><a href=\"#Eliminar-columnas\" data-toc-modified-id=\"Eliminar-columnas-1.1\"><span class=\"toc-item-num\">1.1&nbsp;&nbsp;</span>Eliminar columnas</a></span></li></ul></li><li><span><a href=\"#Entrena-y-prueba-el-modelo-para-cada-región:\" data-toc-modified-id=\"Entrena-y-prueba-el-modelo-para-cada-región:-2\"><span class=\"toc-item-num\">2&nbsp;&nbsp;</span>Entrena y prueba el modelo para cada región:</a></span><ul class=\"toc-item\"><li><span><a href=\"#Region-0\" data-toc-modified-id=\"Region-0-2.1\"><span class=\"toc-item-num\">2.1&nbsp;&nbsp;</span>Region 0</a></span><ul class=\"toc-item\"><li><span><a href=\"#Divide-los-datos-en-un-conjunto-de-entrenamiento-y-un-conjunto-de-validación\" data-toc-modified-id=\"Divide-los-datos-en-un-conjunto-de-entrenamiento-y-un-conjunto-de-validación-2.1.1\"><span class=\"toc-item-num\">2.1.1&nbsp;&nbsp;</span>Divide los datos en un conjunto de entrenamiento y un conjunto de validación</a></span></li><li><span><a href=\"#Entrena-el-modelo-y-haz-predicciones-para-el-conjunto-de-validación\" data-toc-modified-id=\"Entrena-el-modelo-y-haz-predicciones-para-el-conjunto-de-validación-2.1.2\"><span class=\"toc-item-num\">2.1.2&nbsp;&nbsp;</span>Entrena el modelo y haz predicciones para el conjunto de validación</a></span></li></ul></li><li><span><a href=\"#Region-1\" data-toc-modified-id=\"Region-1-2.2\"><span class=\"toc-item-num\">2.2&nbsp;&nbsp;</span>Region 1</a></span><ul class=\"toc-item\"><li><span><a href=\"#Divide-los-datos-en-un-conjunto-de-entrenamiento-y-un-conjunto-de-validación\" data-toc-modified-id=\"Divide-los-datos-en-un-conjunto-de-entrenamiento-y-un-conjunto-de-validación-2.2.1\"><span class=\"toc-item-num\">2.2.1&nbsp;&nbsp;</span>Divide los datos en un conjunto de entrenamiento y un conjunto de validación</a></span></li><li><span><a href=\"#Entrena-el-modelo-y-haz-predicciones-para-el-conjunto-de-validación\" data-toc-modified-id=\"Entrena-el-modelo-y-haz-predicciones-para-el-conjunto-de-validación-2.2.2\"><span class=\"toc-item-num\">2.2.2&nbsp;&nbsp;</span>Entrena el modelo y haz predicciones para el conjunto de validación</a></span></li></ul></li><li><span><a href=\"#Region-2\" data-toc-modified-id=\"Region-2-2.3\"><span class=\"toc-item-num\">2.3&nbsp;&nbsp;</span>Region 2</a></span><ul class=\"toc-item\"><li><span><a href=\"#Divide-los-datos-en-un-conjunto-de-entrenamiento-y-un-conjunto-de-validación\" data-toc-modified-id=\"Divide-los-datos-en-un-conjunto-de-entrenamiento-y-un-conjunto-de-validación-2.3.1\"><span class=\"toc-item-num\">2.3.1&nbsp;&nbsp;</span>Divide los datos en un conjunto de entrenamiento y un conjunto de validación</a></span></li><li><span><a href=\"#Entrena-el-modelo-y-haz-predicciones-para-el-conjunto-de-validación\" data-toc-modified-id=\"Entrena-el-modelo-y-haz-predicciones-para-el-conjunto-de-validación-2.3.2\"><span class=\"toc-item-num\">2.3.2&nbsp;&nbsp;</span>Entrena el modelo y haz predicciones para el conjunto de validación</a></span></li></ul></li><li><span><a href=\"#Analiza-los-resultados.\" data-toc-modified-id=\"Analiza-los-resultados.-2.4\"><span class=\"toc-item-num\">2.4&nbsp;&nbsp;</span>Analiza los resultados.</a></span></li></ul></li><li><span><a href=\"#cálculo-de-ganancias\" data-toc-modified-id=\"cálculo-de-ganancias-3\"><span class=\"toc-item-num\">3&nbsp;&nbsp;</span>cálculo de ganancias</a></span><ul class=\"toc-item\"><li><span><a href=\"#Almacena-todos-los-valores-clave-para-los-cálculos-en-variables-separadas.\" data-toc-modified-id=\"Almacena-todos-los-valores-clave-para-los-cálculos-en-variables-separadas.-3.1\"><span class=\"toc-item-num\">3.1&nbsp;&nbsp;</span>Almacena todos los valores clave para los cálculos en variables separadas.</a></span></li><li><span><a href=\"#Calcula-el-volumen-de-reservas-suficiente-para-desarrollar-un-nuevo-pozo\" data-toc-modified-id=\"Calcula-el-volumen-de-reservas-suficiente-para-desarrollar-un-nuevo-pozo-3.2\"><span class=\"toc-item-num\">3.2&nbsp;&nbsp;</span>Calcula el volumen de reservas suficiente para desarrollar un nuevo pozo</a></span></li></ul></li><li><span><a href=\"#calcular-la-ganancia\" data-toc-modified-id=\"calcular-la-ganancia-4\"><span class=\"toc-item-num\">4&nbsp;&nbsp;</span>calcular la ganancia</a></span><ul class=\"toc-item\"><li><span><a href=\"#Calcula-ganancias-para-cada-región\" data-toc-modified-id=\"Calcula-ganancias-para-cada-región-4.1\"><span class=\"toc-item-num\">4.1&nbsp;&nbsp;</span>Calcula ganancias para cada región</a></span></li></ul></li><li><span><a href=\"#Calcula-riesgos-y-ganancias\" data-toc-modified-id=\"Calcula-riesgos-y-ganancias-5\"><span class=\"toc-item-num\">5&nbsp;&nbsp;</span>Calcula riesgos y ganancias</a></span></li><li><span><a href=\"#Conclusión\" data-toc-modified-id=\"Conclusión-6\"><span class=\"toc-item-num\">6&nbsp;&nbsp;</span>Conclusión</a></span></li></ul></div>"
   ]
  },
  {
   "cell_type": "markdown",
   "id": "b00aff99",
   "metadata": {},
   "source": [
    "## Descarga y prepara los datos."
   ]
  },
  {
   "cell_type": "code",
   "execution_count": 1,
   "id": "47a00de4",
   "metadata": {},
   "outputs": [],
   "source": [
    "#Importar bibliotecas \n",
    "import numpy as np\n",
    "import pandas as pd\n",
    "import matplotlib.pyplot as plt\n",
    "from sklearn.model_selection import train_test_split  \n",
    "from sklearn.metrics import mean_squared_error\n",
    "from sklearn.preprocessing import OrdinalEncoder\n",
    "from sklearn.preprocessing import StandardScaler\n",
    "from sklearn.linear_model import LinearRegression\n",
    "from sklearn.model_selection import cross_val_score"
   ]
  },
  {
   "cell_type": "code",
   "execution_count": 2,
   "id": "382dca17",
   "metadata": {},
   "outputs": [],
   "source": [
    "# Carga el archivo de datos en un DataFrame\n",
    "try:\n",
    "    df0 = pd.read_csv('geo_data_0.csv')\n",
    "    df1 = pd.read_csv('geo_data_1.csv')\n",
    "    df2 = pd.read_csv('geo_data_2.csv')\n",
    "except: \n",
    "    df0 = pd.read_csv('/datasets/geo_data_0.csv')\n",
    "    df1 = pd.read_csv('/datasets/geo_data_1.csv')\n",
    "    df2 = pd.read_csv('/datasets/geo_data_2.csv')"
   ]
  },
  {
   "cell_type": "code",
   "execution_count": 3,
   "id": "742d39d2",
   "metadata": {},
   "outputs": [
    {
     "name": "stdout",
     "output_type": "stream",
     "text": [
      "<class 'pandas.core.frame.DataFrame'>\n",
      "RangeIndex: 100000 entries, 0 to 99999\n",
      "Data columns (total 5 columns):\n",
      " #   Column   Non-Null Count   Dtype  \n",
      "---  ------   --------------   -----  \n",
      " 0   id       100000 non-null  object \n",
      " 1   f0       100000 non-null  float64\n",
      " 2   f1       100000 non-null  float64\n",
      " 3   f2       100000 non-null  float64\n",
      " 4   product  100000 non-null  float64\n",
      "dtypes: float64(4), object(1)\n",
      "memory usage: 3.8+ MB\n"
     ]
    },
    {
     "data": {
      "text/html": [
       "<div>\n",
       "<style scoped>\n",
       "    .dataframe tbody tr th:only-of-type {\n",
       "        vertical-align: middle;\n",
       "    }\n",
       "\n",
       "    .dataframe tbody tr th {\n",
       "        vertical-align: top;\n",
       "    }\n",
       "\n",
       "    .dataframe thead th {\n",
       "        text-align: right;\n",
       "    }\n",
       "</style>\n",
       "<table border=\"1\" class=\"dataframe\">\n",
       "  <thead>\n",
       "    <tr style=\"text-align: right;\">\n",
       "      <th></th>\n",
       "      <th>id</th>\n",
       "      <th>f0</th>\n",
       "      <th>f1</th>\n",
       "      <th>f2</th>\n",
       "      <th>product</th>\n",
       "    </tr>\n",
       "  </thead>\n",
       "  <tbody>\n",
       "    <tr>\n",
       "      <th>0</th>\n",
       "      <td>txEyH</td>\n",
       "      <td>0.705745</td>\n",
       "      <td>-0.497823</td>\n",
       "      <td>1.221170</td>\n",
       "      <td>105.280062</td>\n",
       "    </tr>\n",
       "    <tr>\n",
       "      <th>1</th>\n",
       "      <td>2acmU</td>\n",
       "      <td>1.334711</td>\n",
       "      <td>-0.340164</td>\n",
       "      <td>4.365080</td>\n",
       "      <td>73.037750</td>\n",
       "    </tr>\n",
       "    <tr>\n",
       "      <th>2</th>\n",
       "      <td>409Wp</td>\n",
       "      <td>1.022732</td>\n",
       "      <td>0.151990</td>\n",
       "      <td>1.419926</td>\n",
       "      <td>85.265647</td>\n",
       "    </tr>\n",
       "    <tr>\n",
       "      <th>3</th>\n",
       "      <td>iJLyR</td>\n",
       "      <td>-0.032172</td>\n",
       "      <td>0.139033</td>\n",
       "      <td>2.978566</td>\n",
       "      <td>168.620776</td>\n",
       "    </tr>\n",
       "    <tr>\n",
       "      <th>4</th>\n",
       "      <td>Xdl7t</td>\n",
       "      <td>1.988431</td>\n",
       "      <td>0.155413</td>\n",
       "      <td>4.751769</td>\n",
       "      <td>154.036647</td>\n",
       "    </tr>\n",
       "  </tbody>\n",
       "</table>\n",
       "</div>"
      ],
      "text/plain": [
       "      id        f0        f1        f2     product\n",
       "0  txEyH  0.705745 -0.497823  1.221170  105.280062\n",
       "1  2acmU  1.334711 -0.340164  4.365080   73.037750\n",
       "2  409Wp  1.022732  0.151990  1.419926   85.265647\n",
       "3  iJLyR -0.032172  0.139033  2.978566  168.620776\n",
       "4  Xdl7t  1.988431  0.155413  4.751769  154.036647"
      ]
     },
     "execution_count": 3,
     "metadata": {},
     "output_type": "execute_result"
    }
   ],
   "source": [
    "df0.info()\n",
    "df0.head()"
   ]
  },
  {
   "cell_type": "code",
   "execution_count": 4,
   "id": "cd635b7e",
   "metadata": {},
   "outputs": [
    {
     "name": "stdout",
     "output_type": "stream",
     "text": [
      "<class 'pandas.core.frame.DataFrame'>\n",
      "RangeIndex: 100000 entries, 0 to 99999\n",
      "Data columns (total 5 columns):\n",
      " #   Column   Non-Null Count   Dtype  \n",
      "---  ------   --------------   -----  \n",
      " 0   id       100000 non-null  object \n",
      " 1   f0       100000 non-null  float64\n",
      " 2   f1       100000 non-null  float64\n",
      " 3   f2       100000 non-null  float64\n",
      " 4   product  100000 non-null  float64\n",
      "dtypes: float64(4), object(1)\n",
      "memory usage: 3.8+ MB\n"
     ]
    },
    {
     "data": {
      "text/html": [
       "<div>\n",
       "<style scoped>\n",
       "    .dataframe tbody tr th:only-of-type {\n",
       "        vertical-align: middle;\n",
       "    }\n",
       "\n",
       "    .dataframe tbody tr th {\n",
       "        vertical-align: top;\n",
       "    }\n",
       "\n",
       "    .dataframe thead th {\n",
       "        text-align: right;\n",
       "    }\n",
       "</style>\n",
       "<table border=\"1\" class=\"dataframe\">\n",
       "  <thead>\n",
       "    <tr style=\"text-align: right;\">\n",
       "      <th></th>\n",
       "      <th>id</th>\n",
       "      <th>f0</th>\n",
       "      <th>f1</th>\n",
       "      <th>f2</th>\n",
       "      <th>product</th>\n",
       "    </tr>\n",
       "  </thead>\n",
       "  <tbody>\n",
       "    <tr>\n",
       "      <th>0</th>\n",
       "      <td>kBEdx</td>\n",
       "      <td>-15.001348</td>\n",
       "      <td>-8.276000</td>\n",
       "      <td>-0.005876</td>\n",
       "      <td>3.179103</td>\n",
       "    </tr>\n",
       "    <tr>\n",
       "      <th>1</th>\n",
       "      <td>62mP7</td>\n",
       "      <td>14.272088</td>\n",
       "      <td>-3.475083</td>\n",
       "      <td>0.999183</td>\n",
       "      <td>26.953261</td>\n",
       "    </tr>\n",
       "    <tr>\n",
       "      <th>2</th>\n",
       "      <td>vyE1P</td>\n",
       "      <td>6.263187</td>\n",
       "      <td>-5.948386</td>\n",
       "      <td>5.001160</td>\n",
       "      <td>134.766305</td>\n",
       "    </tr>\n",
       "    <tr>\n",
       "      <th>3</th>\n",
       "      <td>KcrkZ</td>\n",
       "      <td>-13.081196</td>\n",
       "      <td>-11.506057</td>\n",
       "      <td>4.999415</td>\n",
       "      <td>137.945408</td>\n",
       "    </tr>\n",
       "    <tr>\n",
       "      <th>4</th>\n",
       "      <td>AHL4O</td>\n",
       "      <td>12.702195</td>\n",
       "      <td>-8.147433</td>\n",
       "      <td>5.004363</td>\n",
       "      <td>134.766305</td>\n",
       "    </tr>\n",
       "  </tbody>\n",
       "</table>\n",
       "</div>"
      ],
      "text/plain": [
       "      id         f0         f1        f2     product\n",
       "0  kBEdx -15.001348  -8.276000 -0.005876    3.179103\n",
       "1  62mP7  14.272088  -3.475083  0.999183   26.953261\n",
       "2  vyE1P   6.263187  -5.948386  5.001160  134.766305\n",
       "3  KcrkZ -13.081196 -11.506057  4.999415  137.945408\n",
       "4  AHL4O  12.702195  -8.147433  5.004363  134.766305"
      ]
     },
     "execution_count": 4,
     "metadata": {},
     "output_type": "execute_result"
    }
   ],
   "source": [
    "df1.info()\n",
    "df1.head()"
   ]
  },
  {
   "cell_type": "code",
   "execution_count": 5,
   "id": "ef0300b5",
   "metadata": {},
   "outputs": [
    {
     "name": "stdout",
     "output_type": "stream",
     "text": [
      "<class 'pandas.core.frame.DataFrame'>\n",
      "RangeIndex: 100000 entries, 0 to 99999\n",
      "Data columns (total 5 columns):\n",
      " #   Column   Non-Null Count   Dtype  \n",
      "---  ------   --------------   -----  \n",
      " 0   id       100000 non-null  object \n",
      " 1   f0       100000 non-null  float64\n",
      " 2   f1       100000 non-null  float64\n",
      " 3   f2       100000 non-null  float64\n",
      " 4   product  100000 non-null  float64\n",
      "dtypes: float64(4), object(1)\n",
      "memory usage: 3.8+ MB\n"
     ]
    },
    {
     "data": {
      "text/html": [
       "<div>\n",
       "<style scoped>\n",
       "    .dataframe tbody tr th:only-of-type {\n",
       "        vertical-align: middle;\n",
       "    }\n",
       "\n",
       "    .dataframe tbody tr th {\n",
       "        vertical-align: top;\n",
       "    }\n",
       "\n",
       "    .dataframe thead th {\n",
       "        text-align: right;\n",
       "    }\n",
       "</style>\n",
       "<table border=\"1\" class=\"dataframe\">\n",
       "  <thead>\n",
       "    <tr style=\"text-align: right;\">\n",
       "      <th></th>\n",
       "      <th>id</th>\n",
       "      <th>f0</th>\n",
       "      <th>f1</th>\n",
       "      <th>f2</th>\n",
       "      <th>product</th>\n",
       "    </tr>\n",
       "  </thead>\n",
       "  <tbody>\n",
       "    <tr>\n",
       "      <th>0</th>\n",
       "      <td>fwXo0</td>\n",
       "      <td>-1.146987</td>\n",
       "      <td>0.963328</td>\n",
       "      <td>-0.828965</td>\n",
       "      <td>27.758673</td>\n",
       "    </tr>\n",
       "    <tr>\n",
       "      <th>1</th>\n",
       "      <td>WJtFt</td>\n",
       "      <td>0.262778</td>\n",
       "      <td>0.269839</td>\n",
       "      <td>-2.530187</td>\n",
       "      <td>56.069697</td>\n",
       "    </tr>\n",
       "    <tr>\n",
       "      <th>2</th>\n",
       "      <td>ovLUW</td>\n",
       "      <td>0.194587</td>\n",
       "      <td>0.289035</td>\n",
       "      <td>-5.586433</td>\n",
       "      <td>62.871910</td>\n",
       "    </tr>\n",
       "    <tr>\n",
       "      <th>3</th>\n",
       "      <td>q6cA6</td>\n",
       "      <td>2.236060</td>\n",
       "      <td>-0.553760</td>\n",
       "      <td>0.930038</td>\n",
       "      <td>114.572842</td>\n",
       "    </tr>\n",
       "    <tr>\n",
       "      <th>4</th>\n",
       "      <td>WPMUX</td>\n",
       "      <td>-0.515993</td>\n",
       "      <td>1.716266</td>\n",
       "      <td>5.899011</td>\n",
       "      <td>149.600746</td>\n",
       "    </tr>\n",
       "  </tbody>\n",
       "</table>\n",
       "</div>"
      ],
      "text/plain": [
       "      id        f0        f1        f2     product\n",
       "0  fwXo0 -1.146987  0.963328 -0.828965   27.758673\n",
       "1  WJtFt  0.262778  0.269839 -2.530187   56.069697\n",
       "2  ovLUW  0.194587  0.289035 -5.586433   62.871910\n",
       "3  q6cA6  2.236060 -0.553760  0.930038  114.572842\n",
       "4  WPMUX -0.515993  1.716266  5.899011  149.600746"
      ]
     },
     "execution_count": 5,
     "metadata": {},
     "output_type": "execute_result"
    }
   ],
   "source": [
    "df2.info()\n",
    "df2.head()"
   ]
  },
  {
   "cell_type": "markdown",
   "id": "e01aeee2",
   "metadata": {},
   "source": [
    "+ No hay valores ausentes en ninguno de los tres DataFrame "
   ]
  },
  {
   "cell_type": "markdown",
   "id": "6271d0b7",
   "metadata": {},
   "source": [
    "### Eliminar columnas"
   ]
  },
  {
   "cell_type": "code",
   "execution_count": 6,
   "id": "90c00206",
   "metadata": {},
   "outputs": [],
   "source": [
    "df0 = df0.drop('id', axis=1)\n",
    "df1 = df1.drop('id', axis=1)\n",
    "df2 = df2.drop('id', axis=1)"
   ]
  },
  {
   "cell_type": "markdown",
   "id": "91eb7217",
   "metadata": {},
   "source": [
    "+ Eliminamos la columna id de cada DataFrame, ya que no aporta valor para nuestro proposito"
   ]
  },
  {
   "cell_type": "markdown",
   "id": "38c286c0",
   "metadata": {},
   "source": [
    "## Entrena y prueba el modelo para cada región:"
   ]
  },
  {
   "cell_type": "markdown",
   "id": "c176e243",
   "metadata": {},
   "source": [
    "Cada region la identificaremos con 0, 1 y 2"
   ]
  },
  {
   "cell_type": "markdown",
   "id": "96ec4928",
   "metadata": {},
   "source": [
    "### Region 0"
   ]
  },
  {
   "cell_type": "code",
   "execution_count": 7,
   "id": "915bce22",
   "metadata": {},
   "outputs": [],
   "source": [
    "#Seleccionamos las columnas de objetivo y las caracteristicas \n",
    "features_df0 = df0.drop('product', axis = 1)\n",
    "target_df0 = df0['product']"
   ]
  },
  {
   "cell_type": "markdown",
   "id": "c9054e6b",
   "metadata": {},
   "source": [
    "#### Divide los datos en un conjunto de entrenamiento y un conjunto de validación"
   ]
  },
  {
   "cell_type": "code",
   "execution_count": 8,
   "id": "d9e851e7",
   "metadata": {},
   "outputs": [
    {
     "name": "stdout",
     "output_type": "stream",
     "text": [
      "(75000, 3)\n",
      "(75000,)\n",
      "(25000, 3)\n",
      "(25000,)\n"
     ]
    },
    {
     "name": "stderr",
     "output_type": "stream",
     "text": [
      "/tmp/ipykernel_90/3391443472.py:8: SettingWithCopyWarning: \n",
      "A value is trying to be set on a copy of a slice from a DataFrame.\n",
      "Try using .loc[row_indexer,col_indexer] = value instead\n",
      "\n",
      "See the caveats in the documentation: https://pandas.pydata.org/pandas-docs/stable/user_guide/indexing.html#returning-a-view-versus-a-copy\n",
      "  features_train_df0[numeric] = scaler.transform(features_train_df0[numeric])\n",
      "/opt/conda/lib/python3.9/site-packages/pandas/core/indexing.py:1637: SettingWithCopyWarning: \n",
      "A value is trying to be set on a copy of a slice from a DataFrame\n",
      "\n",
      "See the caveats in the documentation: https://pandas.pydata.org/pandas-docs/stable/user_guide/indexing.html#returning-a-view-versus-a-copy\n",
      "  self._setitem_single_block(indexer, value, name)\n",
      "/opt/conda/lib/python3.9/site-packages/pandas/core/indexing.py:692: SettingWithCopyWarning: \n",
      "A value is trying to be set on a copy of a slice from a DataFrame\n",
      "\n",
      "See the caveats in the documentation: https://pandas.pydata.org/pandas-docs/stable/user_guide/indexing.html#returning-a-view-versus-a-copy\n",
      "  iloc._setitem_with_indexer(indexer, value, self.name)\n",
      "/tmp/ipykernel_90/3391443472.py:9: SettingWithCopyWarning: \n",
      "A value is trying to be set on a copy of a slice from a DataFrame.\n",
      "Try using .loc[row_indexer,col_indexer] = value instead\n",
      "\n",
      "See the caveats in the documentation: https://pandas.pydata.org/pandas-docs/stable/user_guide/indexing.html#returning-a-view-versus-a-copy\n",
      "  features_valid_df0[numeric] = scaler.transform(features_valid_df0[numeric])\n",
      "/opt/conda/lib/python3.9/site-packages/pandas/core/indexing.py:1637: SettingWithCopyWarning: \n",
      "A value is trying to be set on a copy of a slice from a DataFrame\n",
      "\n",
      "See the caveats in the documentation: https://pandas.pydata.org/pandas-docs/stable/user_guide/indexing.html#returning-a-view-versus-a-copy\n",
      "  self._setitem_single_block(indexer, value, name)\n",
      "/opt/conda/lib/python3.9/site-packages/pandas/core/indexing.py:692: SettingWithCopyWarning: \n",
      "A value is trying to be set on a copy of a slice from a DataFrame\n",
      "\n",
      "See the caveats in the documentation: https://pandas.pydata.org/pandas-docs/stable/user_guide/indexing.html#returning-a-view-versus-a-copy\n",
      "  iloc._setitem_with_indexer(indexer, value, self.name)\n"
     ]
    }
   ],
   "source": [
    "#Segmentamos los datos en 75:25\n",
    "#Segmentamos los datos para entrenamiento y validación\n",
    "features_train_df0, features_valid_df0, target_train_df0, target_valid_df0 = train_test_split(features_df0, target_df0, test_size=0.25, random_state=12345)\n",
    "#Estandarizamos las funciones para facilitar que los algoritmos entrenen modelos.\n",
    "numeric = ['f0', 'f1', 'f2']\n",
    "scaler = StandardScaler()\n",
    "scaler.fit(features_train_df0[numeric])\n",
    "features_train_df0[numeric] = scaler.transform(features_train_df0[numeric])\n",
    "features_valid_df0[numeric] = scaler.transform(features_valid_df0[numeric]) \n",
    "#Comprobamos la distribucón \n",
    "print(features_train_df0.shape)\n",
    "print(target_train_df0.shape)\n",
    "print(features_valid_df0.shape)\n",
    "print(target_valid_df0.shape)"
   ]
  },
  {
   "cell_type": "markdown",
   "id": "709a6467",
   "metadata": {},
   "source": [
    "#### Entrena el modelo y haz predicciones para el conjunto de validación"
   ]
  },
  {
   "cell_type": "code",
   "execution_count": 9,
   "id": "047a82ec",
   "metadata": {},
   "outputs": [],
   "source": [
    "# inicializa el constructor de modelos\n",
    "model_df0 = LinearRegression()\n",
    "# entrena el modelo en el conjunto de entrenamiento\n",
    "model_df0.fit(features_train_df0, target_train_df0)\n",
    "# obtén las predicciones del modelo en el conjunto de validación\n",
    "predictions_valid_df0 = model_df0.predict(features_valid_df0) \n",
    "# calcula la RECM en el conjunto de validación\n",
    "result_df0 = mean_squared_error(target_valid_df0, predictions_valid_df0)**0.5\n",
    "#Calcular Score \n",
    "score_df0 = cross_val_score(model_df0, features_df0, target_df0, cv = 5)\n",
    "score_final_df0 = pd.Series(score_df0)\n",
    "#volumen promedio calculado\n",
    "predict_mean_df0 = predictions_valid_df0.mean()"
   ]
  },
  {
   "cell_type": "markdown",
   "id": "71de6a44",
   "metadata": {},
   "source": [
    "### Region 1"
   ]
  },
  {
   "cell_type": "code",
   "execution_count": 10,
   "id": "74c063aa",
   "metadata": {},
   "outputs": [],
   "source": [
    "#Seleccionamos las columnas de objetivo y las caracteristicas \n",
    "features_df1 = df1.drop('product', axis = 1)\n",
    "target_df1 = df1['product']"
   ]
  },
  {
   "cell_type": "markdown",
   "id": "5aa27791",
   "metadata": {},
   "source": [
    "#### Divide los datos en un conjunto de entrenamiento y un conjunto de validación"
   ]
  },
  {
   "cell_type": "code",
   "execution_count": 11,
   "id": "68bc4940",
   "metadata": {},
   "outputs": [
    {
     "name": "stdout",
     "output_type": "stream",
     "text": [
      "(75000, 3)\n",
      "(75000,)\n",
      "(25000, 3)\n",
      "(25000,)\n"
     ]
    },
    {
     "name": "stderr",
     "output_type": "stream",
     "text": [
      "/tmp/ipykernel_90/3045207176.py:8: SettingWithCopyWarning: \n",
      "A value is trying to be set on a copy of a slice from a DataFrame.\n",
      "Try using .loc[row_indexer,col_indexer] = value instead\n",
      "\n",
      "See the caveats in the documentation: https://pandas.pydata.org/pandas-docs/stable/user_guide/indexing.html#returning-a-view-versus-a-copy\n",
      "  features_train_df1[numeric] = scaler.transform(features_train_df1[numeric])\n",
      "/opt/conda/lib/python3.9/site-packages/pandas/core/indexing.py:1637: SettingWithCopyWarning: \n",
      "A value is trying to be set on a copy of a slice from a DataFrame\n",
      "\n",
      "See the caveats in the documentation: https://pandas.pydata.org/pandas-docs/stable/user_guide/indexing.html#returning-a-view-versus-a-copy\n",
      "  self._setitem_single_block(indexer, value, name)\n",
      "/opt/conda/lib/python3.9/site-packages/pandas/core/indexing.py:692: SettingWithCopyWarning: \n",
      "A value is trying to be set on a copy of a slice from a DataFrame\n",
      "\n",
      "See the caveats in the documentation: https://pandas.pydata.org/pandas-docs/stable/user_guide/indexing.html#returning-a-view-versus-a-copy\n",
      "  iloc._setitem_with_indexer(indexer, value, self.name)\n",
      "/tmp/ipykernel_90/3045207176.py:9: SettingWithCopyWarning: \n",
      "A value is trying to be set on a copy of a slice from a DataFrame.\n",
      "Try using .loc[row_indexer,col_indexer] = value instead\n",
      "\n",
      "See the caveats in the documentation: https://pandas.pydata.org/pandas-docs/stable/user_guide/indexing.html#returning-a-view-versus-a-copy\n",
      "  features_valid_df1[numeric] = scaler.transform(features_valid_df1[numeric])\n",
      "/opt/conda/lib/python3.9/site-packages/pandas/core/indexing.py:1637: SettingWithCopyWarning: \n",
      "A value is trying to be set on a copy of a slice from a DataFrame\n",
      "\n",
      "See the caveats in the documentation: https://pandas.pydata.org/pandas-docs/stable/user_guide/indexing.html#returning-a-view-versus-a-copy\n",
      "  self._setitem_single_block(indexer, value, name)\n",
      "/opt/conda/lib/python3.9/site-packages/pandas/core/indexing.py:692: SettingWithCopyWarning: \n",
      "A value is trying to be set on a copy of a slice from a DataFrame\n",
      "\n",
      "See the caveats in the documentation: https://pandas.pydata.org/pandas-docs/stable/user_guide/indexing.html#returning-a-view-versus-a-copy\n",
      "  iloc._setitem_with_indexer(indexer, value, self.name)\n"
     ]
    }
   ],
   "source": [
    "#Segmentamos los datos en 75:25\n",
    "#Segmentamos los datos para entrenamiento y validación\n",
    "features_train_df1, features_valid_df1, target_train_df1, target_valid_df1 = train_test_split(features_df1, target_df1, test_size=0.25, random_state=12345)\n",
    "#Estandarizamos las funciones para facilitar que los algoritmos entrenen modelos.\n",
    "numeric = ['f0', 'f1', 'f2']\n",
    "scaler = StandardScaler()\n",
    "scaler.fit(features_train_df1[numeric])\n",
    "features_train_df1[numeric] = scaler.transform(features_train_df1[numeric])\n",
    "features_valid_df1[numeric] = scaler.transform(features_valid_df1[numeric]) \n",
    "#Comprobamos la distribucón \n",
    "print(features_train_df1.shape)\n",
    "print(target_train_df1.shape)\n",
    "print(features_valid_df1.shape)\n",
    "print(target_valid_df1.shape)"
   ]
  },
  {
   "cell_type": "markdown",
   "id": "a4d0cfd6",
   "metadata": {},
   "source": [
    "#### Entrena el modelo y haz predicciones para el conjunto de validación"
   ]
  },
  {
   "cell_type": "code",
   "execution_count": 12,
   "id": "2608450e",
   "metadata": {},
   "outputs": [],
   "source": [
    "# inicializa el constructor de modelos\n",
    "model_df1 = LinearRegression()\n",
    "# entrena el modelo en el conjunto de entrenamiento\n",
    "model_df1.fit(features_train_df1, target_train_df1)\n",
    "# obtén las predicciones del modelo en el conjunto de validación\n",
    "predictions_valid_df1 = model_df1.predict(features_valid_df1) \n",
    "# calcula la RECM en el conjunto de validación\n",
    "result_df1 = mean_squared_error(target_valid_df1, predictions_valid_df1)**0.5\n",
    "#Calcular Score \n",
    "score_df1 = cross_val_score(model_df1, features_df1, target_df1, cv = 5)\n",
    "score_final_df1 = pd.Series(score_df1)\n",
    "#volumen promedio calculado\n",
    "predict_mean_df1 = predictions_valid_df1.mean()"
   ]
  },
  {
   "cell_type": "markdown",
   "id": "ce036e00",
   "metadata": {},
   "source": [
    "### Region 2"
   ]
  },
  {
   "cell_type": "code",
   "execution_count": 13,
   "id": "d4e5c910",
   "metadata": {},
   "outputs": [],
   "source": [
    "#Seleccionamos las columnas de objetivo y las caracteristicas \n",
    "features_df2 = df2.drop('product', axis = 1)\n",
    "target_df2 = df2['product']"
   ]
  },
  {
   "cell_type": "markdown",
   "id": "94b287b9",
   "metadata": {},
   "source": [
    "#### Divide los datos en un conjunto de entrenamiento y un conjunto de validación"
   ]
  },
  {
   "cell_type": "code",
   "execution_count": 14,
   "id": "0c9ca4b3",
   "metadata": {},
   "outputs": [
    {
     "name": "stdout",
     "output_type": "stream",
     "text": [
      "(75000, 3)\n",
      "(75000,)\n",
      "(25000, 3)\n",
      "(25000,)\n"
     ]
    },
    {
     "name": "stderr",
     "output_type": "stream",
     "text": [
      "/tmp/ipykernel_90/1705706551.py:8: SettingWithCopyWarning: \n",
      "A value is trying to be set on a copy of a slice from a DataFrame.\n",
      "Try using .loc[row_indexer,col_indexer] = value instead\n",
      "\n",
      "See the caveats in the documentation: https://pandas.pydata.org/pandas-docs/stable/user_guide/indexing.html#returning-a-view-versus-a-copy\n",
      "  features_train_df2[numeric] = scaler.transform(features_train_df2[numeric])\n",
      "/opt/conda/lib/python3.9/site-packages/pandas/core/indexing.py:1637: SettingWithCopyWarning: \n",
      "A value is trying to be set on a copy of a slice from a DataFrame\n",
      "\n",
      "See the caveats in the documentation: https://pandas.pydata.org/pandas-docs/stable/user_guide/indexing.html#returning-a-view-versus-a-copy\n",
      "  self._setitem_single_block(indexer, value, name)\n",
      "/opt/conda/lib/python3.9/site-packages/pandas/core/indexing.py:692: SettingWithCopyWarning: \n",
      "A value is trying to be set on a copy of a slice from a DataFrame\n",
      "\n",
      "See the caveats in the documentation: https://pandas.pydata.org/pandas-docs/stable/user_guide/indexing.html#returning-a-view-versus-a-copy\n",
      "  iloc._setitem_with_indexer(indexer, value, self.name)\n",
      "/tmp/ipykernel_90/1705706551.py:9: SettingWithCopyWarning: \n",
      "A value is trying to be set on a copy of a slice from a DataFrame.\n",
      "Try using .loc[row_indexer,col_indexer] = value instead\n",
      "\n",
      "See the caveats in the documentation: https://pandas.pydata.org/pandas-docs/stable/user_guide/indexing.html#returning-a-view-versus-a-copy\n",
      "  features_valid_df2[numeric] = scaler.transform(features_valid_df2[numeric])\n",
      "/opt/conda/lib/python3.9/site-packages/pandas/core/indexing.py:1637: SettingWithCopyWarning: \n",
      "A value is trying to be set on a copy of a slice from a DataFrame\n",
      "\n",
      "See the caveats in the documentation: https://pandas.pydata.org/pandas-docs/stable/user_guide/indexing.html#returning-a-view-versus-a-copy\n",
      "  self._setitem_single_block(indexer, value, name)\n",
      "/opt/conda/lib/python3.9/site-packages/pandas/core/indexing.py:692: SettingWithCopyWarning: \n",
      "A value is trying to be set on a copy of a slice from a DataFrame\n",
      "\n",
      "See the caveats in the documentation: https://pandas.pydata.org/pandas-docs/stable/user_guide/indexing.html#returning-a-view-versus-a-copy\n",
      "  iloc._setitem_with_indexer(indexer, value, self.name)\n"
     ]
    }
   ],
   "source": [
    "#Segmentamos los datos en 75:25\n",
    "#Segmentamos los datos para entrenamiento y validación\n",
    "features_train_df2, features_valid_df2, target_train_df2, target_valid_df2 = train_test_split(features_df2, target_df2, test_size=0.25, random_state=12345)\n",
    "#Estandarizamos las funciones para facilitar que los algoritmos entrenen modelos.\n",
    "numeric = ['f0', 'f1', 'f2']\n",
    "scaler = StandardScaler()\n",
    "scaler.fit(features_train_df2[numeric])\n",
    "features_train_df2[numeric] = scaler.transform(features_train_df2[numeric])\n",
    "features_valid_df2[numeric] = scaler.transform(features_valid_df2[numeric]) \n",
    "#Comprobamos la distribucón \n",
    "print(features_train_df2.shape)\n",
    "print(target_train_df2.shape)\n",
    "print(features_valid_df2.shape)\n",
    "print(target_valid_df2.shape)"
   ]
  },
  {
   "cell_type": "markdown",
   "id": "df0ef99f",
   "metadata": {},
   "source": [
    "#### Entrena el modelo y haz predicciones para el conjunto de validación\n"
   ]
  },
  {
   "cell_type": "code",
   "execution_count": 15,
   "id": "41e258f6",
   "metadata": {},
   "outputs": [],
   "source": [
    "# inicializa el constructor de modelos\n",
    "model_df2 = LinearRegression()\n",
    "# entrena el modelo en el conjunto de entrenamiento\n",
    "model_df2.fit(features_train_df2, target_train_df2)\n",
    "# obtén las predicciones del modelo en el conjunto de validación\n",
    "predictions_valid_df2 = model_df2.predict(features_valid_df2) \n",
    "# calcula la RECM en el conjunto de validación\n",
    "result_df2 = mean_squared_error(target_valid_df2, predictions_valid_df2)**0.5\n",
    "#Calcular Score \n",
    "score_df2 = cross_val_score(model_df2, features_df2, target_df2, cv = 5)\n",
    "score_final_df2 = pd.Series(score_df2)\n",
    "#volumen promedio calculado\n",
    "predict_mean_df2 = predictions_valid_df2.mean()"
   ]
  },
  {
   "cell_type": "markdown",
   "id": "3ce0d69d",
   "metadata": {},
   "source": [
    "### Analiza los resultados."
   ]
  },
  {
   "cell_type": "code",
   "execution_count": 16,
   "id": "721bac2d",
   "metadata": {},
   "outputs": [
    {
     "data": {
      "text/html": [
       "<div>\n",
       "<style scoped>\n",
       "    .dataframe tbody tr th:only-of-type {\n",
       "        vertical-align: middle;\n",
       "    }\n",
       "\n",
       "    .dataframe tbody tr th {\n",
       "        vertical-align: top;\n",
       "    }\n",
       "\n",
       "    .dataframe thead th {\n",
       "        text-align: right;\n",
       "    }\n",
       "</style>\n",
       "<table border=\"1\" class=\"dataframe\">\n",
       "  <thead>\n",
       "    <tr style=\"text-align: right;\">\n",
       "      <th></th>\n",
       "      <th>Región</th>\n",
       "      <th>REMC</th>\n",
       "      <th>Volumen actual promedio</th>\n",
       "      <th>Volumen calculado promedio</th>\n",
       "      <th>score</th>\n",
       "    </tr>\n",
       "  </thead>\n",
       "  <tbody>\n",
       "    <tr>\n",
       "      <th>0</th>\n",
       "      <td>Región 0</td>\n",
       "      <td>37.58</td>\n",
       "      <td>92.50</td>\n",
       "      <td>92.59</td>\n",
       "      <td>0.28</td>\n",
       "    </tr>\n",
       "    <tr>\n",
       "      <th>1</th>\n",
       "      <td>Región 1</td>\n",
       "      <td>0.89</td>\n",
       "      <td>68.83</td>\n",
       "      <td>68.73</td>\n",
       "      <td>1.00</td>\n",
       "    </tr>\n",
       "    <tr>\n",
       "      <th>2</th>\n",
       "      <td>Región 2</td>\n",
       "      <td>40.03</td>\n",
       "      <td>95.00</td>\n",
       "      <td>94.97</td>\n",
       "      <td>0.20</td>\n",
       "    </tr>\n",
       "  </tbody>\n",
       "</table>\n",
       "</div>"
      ],
      "text/plain": [
       "     Región   REMC  Volumen actual promedio  Volumen calculado promedio  score\n",
       "0  Región 0  37.58                    92.50                       92.59   0.28\n",
       "1  Región 1   0.89                    68.83                       68.73   1.00\n",
       "2  Región 2  40.03                    95.00                       94.97   0.20"
      ]
     },
     "execution_count": 16,
     "metadata": {},
     "output_type": "execute_result"
    }
   ],
   "source": [
    "resultados = pd.DataFrame({\n",
    "    \"Región\": [\"Región 0\", \"Región 1\", \"Región 2\"],\n",
    "    \"REMC\": [round(result_df0,2), round(result_df1,2), round(result_df2,2)],\n",
    "    \"Volumen actual promedio\": [round(df0['product'].mean(),2), round(df1['product'].mean(),2), round(df2['product'].mean(),2)],\n",
    "    \"Volumen calculado promedio\": [round(predict_mean_df0,2), round(predict_mean_df1,2), round(predict_mean_df2,2)],\n",
    "    \"score\": [round(score_final_df0.mean(),2), round(score_final_df1.mean(),2), round(score_final_df2.mean(),2)]\n",
    "})\n",
    "\n",
    "resultados "
   ]
  },
  {
   "cell_type": "markdown",
   "id": "452c1ec6",
   "metadata": {},
   "source": [
    "+ Utilizamos un modelo de regresión lineal para las predicciones del modelo, en cada region \n",
    "+ La región con mejor RECM es la región 1 con un REMC de 0.8930992, ya que los datos se dispersan menos\n",
    "+ La región con el mejor volumen promedio es la región 2\n",
    "+ El mejor score es para la region 1"
   ]
  },
  {
   "cell_type": "markdown",
   "id": "b5c29d01",
   "metadata": {},
   "source": [
    "## cálculo de ganancias"
   ]
  },
  {
   "cell_type": "markdown",
   "id": "5db85666",
   "metadata": {},
   "source": [
    "### Almacena todos los valores clave para los cálculos en variables separadas."
   ]
  },
  {
   "cell_type": "code",
   "execution_count": 17,
   "id": "70344742",
   "metadata": {},
   "outputs": [],
   "source": [
    "# Condiciones iniciales\n",
    "reg_loc = 500\n",
    "mej_loc_reg = 200\n",
    "cost_cap = 100 * 10**6 #100 USD Millones\n",
    "cost_bbl = 4500\n",
    "risk_perdida = 0.025"
   ]
  },
  {
   "cell_type": "markdown",
   "id": "43c943fe",
   "metadata": {},
   "source": [
    "### Calcula el volumen de reservas suficiente para desarrollar un nuevo pozo"
   ]
  },
  {
   "cell_type": "code",
   "execution_count": 18,
   "id": "f075b288",
   "metadata": {},
   "outputs": [
    {
     "name": "stdout",
     "output_type": "stream",
     "text": [
      "volumen para desarrollar pozo sin perdida de reservas: 111.11 Thousand Stock Tank Barrels (STB).\n"
     ]
    }
   ],
   "source": [
    "revenue = cost_bbl * mej_loc_reg\n",
    "vol_res = cost_cap / revenue\n",
    "print('volumen para desarrollar pozo sin perdida de reservas: %.2f' % vol_res, 'Thousand Stock Tank Barrels (STB).')"
   ]
  },
  {
   "cell_type": "markdown",
   "id": "b3fc2237",
   "metadata": {},
   "source": [
    "+ Podemos observar que la diferencia del volumen para un pozo sin perdidas es muy superior a la de cualquir resultado de las 3 regiones"
   ]
  },
  {
   "cell_type": "markdown",
   "id": "70aa753b",
   "metadata": {},
   "source": [
    "## calcular la ganancia"
   ]
  },
  {
   "cell_type": "markdown",
   "id": "0091d6d8",
   "metadata": {},
   "source": [
    "### Calcula ganancias para cada región"
   ]
  },
  {
   "cell_type": "code",
   "execution_count": 19,
   "id": "40a4d21a",
   "metadata": {
    "scrolled": true
   },
   "outputs": [],
   "source": [
    "def ganancias(predictions, target, count, region):\n",
    "    mej_vol = pd.Series(predictions, index=target.index).sort_values(ascending=False)\n",
    "    vol_res_target = target[mej_vol.index][:count] #Seleccionamos las 200 mejores localizaciones\n",
    "    total_reservas_mean = vol_res_target.mean()\n",
    "    total_reservas = vol_res_target.sum()\n",
    "    ganancias= total_reservas * cost_bbl - cost_cap\n",
    "    ganancias_mean = (total_reservas_mean*mej_loc_reg)-cost_bbl\n",
    "    return total_reservas, ganancias, ganancias_mean"
   ]
  },
  {
   "cell_type": "code",
   "execution_count": 20,
   "id": "6209cbec",
   "metadata": {},
   "outputs": [],
   "source": [
    "total_reservas_0, ganancias_0, ganancias_mean_0 = ganancias(predictions_valid_df0, target_valid_df0, mej_loc_reg, \"Region 0\")"
   ]
  },
  {
   "cell_type": "code",
   "execution_count": 21,
   "id": "4723d67c",
   "metadata": {},
   "outputs": [],
   "source": [
    "total_reservas_1, ganancias_1, ganancias_mean_1 = ganancias(predictions_valid_df1, target_valid_df1, mej_loc_reg, \"Region 1\")"
   ]
  },
  {
   "cell_type": "code",
   "execution_count": 22,
   "id": "8221e9a6",
   "metadata": {},
   "outputs": [],
   "source": [
    "total_reservas_2, ganancias_2, ganancias_mean_2 = ganancias(predictions_valid_df2, target_valid_df2, mej_loc_reg, \"Region 2\")"
   ]
  },
  {
   "cell_type": "code",
   "execution_count": 23,
   "id": "c6cfe6e6",
   "metadata": {
    "scrolled": true
   },
   "outputs": [
    {
     "data": {
      "text/html": [
       "<div>\n",
       "<style scoped>\n",
       "    .dataframe tbody tr th:only-of-type {\n",
       "        vertical-align: middle;\n",
       "    }\n",
       "\n",
       "    .dataframe tbody tr th {\n",
       "        vertical-align: top;\n",
       "    }\n",
       "\n",
       "    .dataframe thead th {\n",
       "        text-align: right;\n",
       "    }\n",
       "</style>\n",
       "<table border=\"1\" class=\"dataframe\">\n",
       "  <thead>\n",
       "    <tr style=\"text-align: right;\">\n",
       "      <th></th>\n",
       "      <th>Región</th>\n",
       "      <th>Volumen Objetivo</th>\n",
       "      <th>Ganancias por volumen</th>\n",
       "      <th>Ganancias promedio por volumen</th>\n",
       "    </tr>\n",
       "  </thead>\n",
       "  <tbody>\n",
       "    <tr>\n",
       "      <th>0</th>\n",
       "      <td>Región 0</td>\n",
       "      <td>29601.84</td>\n",
       "      <td>33208260.43</td>\n",
       "      <td>25101.84</td>\n",
       "    </tr>\n",
       "    <tr>\n",
       "      <th>1</th>\n",
       "      <td>Región 1</td>\n",
       "      <td>27589.08</td>\n",
       "      <td>24150866.97</td>\n",
       "      <td>23089.08</td>\n",
       "    </tr>\n",
       "    <tr>\n",
       "      <th>2</th>\n",
       "      <td>Región 2</td>\n",
       "      <td>28245.22</td>\n",
       "      <td>27103499.64</td>\n",
       "      <td>23745.22</td>\n",
       "    </tr>\n",
       "  </tbody>\n",
       "</table>\n",
       "</div>"
      ],
      "text/plain": [
       "     Región  Volumen Objetivo  Ganancias por volumen  \\\n",
       "0  Región 0          29601.84            33208260.43   \n",
       "1  Región 1          27589.08            24150866.97   \n",
       "2  Región 2          28245.22            27103499.64   \n",
       "\n",
       "   Ganancias promedio por volumen  \n",
       "0                        25101.84  \n",
       "1                        23089.08  \n",
       "2                        23745.22  "
      ]
     },
     "execution_count": 23,
     "metadata": {},
     "output_type": "execute_result"
    }
   ],
   "source": [
    "resultados_1 = pd.DataFrame({\n",
    "    \"Región\": [\"Región 0\", \"Región 1\", \"Región 2\"],\n",
    "    \"Volumen Objetivo\": [round(total_reservas_0,2), round(total_reservas_1,2), round(total_reservas_2,2)],\n",
    "    \"Ganancias por volumen\": [round(ganancias_0,2), round(ganancias_1,2), round(ganancias_2,2)],\n",
    "    \"Ganancias promedio por volumen\": [round(ganancias_mean_0,2), round(ganancias_mean_1,2), round(ganancias_mean_2,2)]\n",
    "})\n",
    "\n",
    "resultados_1"
   ]
  },
  {
   "cell_type": "markdown",
   "id": "345a2963",
   "metadata": {},
   "source": [
    "+ Las mejores ganacias son para la region 1, ya que el volumen objetivo es menor "
   ]
  },
  {
   "cell_type": "markdown",
   "id": "7626017e",
   "metadata": {},
   "source": [
    "## Calcula riesgos y ganancias"
   ]
  },
  {
   "cell_type": "code",
   "execution_count": 24,
   "id": "26d8cc2c",
   "metadata": {},
   "outputs": [],
   "source": [
    "#bootstrapping\n",
    "def revenue(predictions, target, count):\n",
    "    mej_vol = pd.Series(predictions, index = target.index).sort_values(ascending=False)\n",
    "    vol_res_target = target[mej_vol.index][:count] #Seleccionamos 200\n",
    "    tot_res_mean = vol_res_target.mean()\n",
    "    tot_res = vol_res_target.sum()\n",
    "    ganancias = tot_res*cost_bbl - cost_cap\n",
    "    return ganancias"
   ]
  },
  {
   "cell_type": "code",
   "execution_count": 25,
   "id": "f06d9ab1",
   "metadata": {},
   "outputs": [],
   "source": [
    "def bootstrapping(predictions, target):\n",
    "    state = np.random.RandomState(12345)\n",
    "    beneficio = []\n",
    "    for i in range(1000):\n",
    "        pred = pd.Series(predictions, index=target.index)\n",
    "        target_subsample = target.sample(n = reg_loc, replace=True, random_state=state)\n",
    "        prob_subsample = pred[target_subsample.index]\n",
    "        beneficio.append(revenue(prob_subsample, target_subsample, mej_loc_reg))\n",
    "    return pd.Series(beneficio)"
   ]
  },
  {
   "cell_type": "code",
   "execution_count": 26,
   "id": "081490f6",
   "metadata": {},
   "outputs": [],
   "source": [
    "def riesgo(predictions, target):\n",
    "    beneficio = bootstrapping(predictions, target)\n",
    "    beneficio_mean = beneficio.mean()\n",
    "    confidence_interval = (beneficio.quantile(0.025), beneficio.quantile(0.975))\n",
    "    perdida = beneficio[beneficio < 0]\n",
    "    riesgo_perdida = (len(perdida)/len(beneficio))*100\n",
    "    return beneficio_mean, confidence_interval, riesgo_perdida"
   ]
  },
  {
   "cell_type": "code",
   "execution_count": 27,
   "id": "e15c2084",
   "metadata": {},
   "outputs": [],
   "source": [
    "beneficio_mean_0, confidence_interval_0, riesgo_perdida_0 = riesgo(predictions_valid_df0, target_valid_df0)"
   ]
  },
  {
   "cell_type": "code",
   "execution_count": 28,
   "id": "54c64172",
   "metadata": {},
   "outputs": [],
   "source": [
    "beneficio_mean_1, confidence_interval_1, riesgo_perdida_1 = riesgo(predictions_valid_df1, target_valid_df1)"
   ]
  },
  {
   "cell_type": "code",
   "execution_count": 29,
   "id": "fc511c7a",
   "metadata": {},
   "outputs": [],
   "source": [
    "beneficio_mean_2, confidence_interval_2, riesgo_perdida_2 = riesgo(predictions_valid_df2, target_valid_df2)"
   ]
  },
  {
   "cell_type": "code",
   "execution_count": 30,
   "id": "f2e2c8aa",
   "metadata": {
    "scrolled": true
   },
   "outputs": [
    {
     "data": {
      "text/html": [
       "<div>\n",
       "<style scoped>\n",
       "    .dataframe tbody tr th:only-of-type {\n",
       "        vertical-align: middle;\n",
       "    }\n",
       "\n",
       "    .dataframe tbody tr th {\n",
       "        vertical-align: top;\n",
       "    }\n",
       "\n",
       "    .dataframe thead th {\n",
       "        text-align: right;\n",
       "    }\n",
       "</style>\n",
       "<table border=\"1\" class=\"dataframe\">\n",
       "  <thead>\n",
       "    <tr style=\"text-align: right;\">\n",
       "      <th></th>\n",
       "      <th>Región</th>\n",
       "      <th>Beneficio promedio</th>\n",
       "      <th>Riesgo de perdida</th>\n",
       "      <th>Intervalo de confianza</th>\n",
       "    </tr>\n",
       "  </thead>\n",
       "  <tbody>\n",
       "    <tr>\n",
       "      <th>0</th>\n",
       "      <td>Región 0</td>\n",
       "      <td>4259385.27</td>\n",
       "      <td>6.0</td>\n",
       "      <td>(-1020900.9483793724, 9479763.533583675)</td>\n",
       "    </tr>\n",
       "    <tr>\n",
       "      <th>1</th>\n",
       "      <td>Región 1</td>\n",
       "      <td>5152227.73</td>\n",
       "      <td>1.0</td>\n",
       "      <td>(688732.2537050088, 9315475.912570495)</td>\n",
       "    </tr>\n",
       "    <tr>\n",
       "      <th>2</th>\n",
       "      <td>Región 2</td>\n",
       "      <td>4350083.63</td>\n",
       "      <td>6.4</td>\n",
       "      <td>(-1288805.473297878, 9697069.541802654)</td>\n",
       "    </tr>\n",
       "  </tbody>\n",
       "</table>\n",
       "</div>"
      ],
      "text/plain": [
       "     Región  Beneficio promedio  Riesgo de perdida  \\\n",
       "0  Región 0          4259385.27                6.0   \n",
       "1  Región 1          5152227.73                1.0   \n",
       "2  Región 2          4350083.63                6.4   \n",
       "\n",
       "                     Intervalo de confianza  \n",
       "0  (-1020900.9483793724, 9479763.533583675)  \n",
       "1    (688732.2537050088, 9315475.912570495)  \n",
       "2   (-1288805.473297878, 9697069.541802654)  "
      ]
     },
     "execution_count": 30,
     "metadata": {},
     "output_type": "execute_result"
    }
   ],
   "source": [
    "resultados_2 = pd.DataFrame({\n",
    "    \"Región\": [\"Región 0\", \"Región 1\", \"Región 2\"],\n",
    "    \"Beneficio promedio\": [round(beneficio_mean_0,2), round(beneficio_mean_1,2), round(beneficio_mean_2,2)],\n",
    "    \"Riesgo de perdida\": [riesgo_perdida_0, riesgo_perdida_1, riesgo_perdida_2,],\n",
    "    \"Intervalo de confianza\": [confidence_interval_0, confidence_interval_1, confidence_interval_2]\n",
    "})\n",
    "\n",
    "resultados_2"
   ]
  },
  {
   "cell_type": "markdown",
   "id": "db2ccfab",
   "metadata": {},
   "source": [
    "+ El beneficio por la region 1 es mayor y el riesgo de perdida es del 1%\n",
    "+ El intervalo de confianza de la region 1, esta comprendidio entre valores positivos "
   ]
  },
  {
   "cell_type": "code",
   "execution_count": 31,
   "id": "06909322",
   "metadata": {},
   "outputs": [],
   "source": [
    "#Calculo de beneficio por región \n",
    "region_0 = bootstrapping(predictions_valid_df0, target_valid_df0)\n",
    "region_1 = bootstrapping(predictions_valid_df1, target_valid_df1)\n",
    "region_2 = bootstrapping(predictions_valid_df2, target_valid_df2)"
   ]
  },
  {
   "cell_type": "code",
   "execution_count": 32,
   "id": "71a9b4f7",
   "metadata": {},
   "outputs": [],
   "source": [
    "resultados_3 = pd.DataFrame({\n",
    "    \"Región\": [\"Región 0\", \"Región 1\", \"Región 2\"],\n",
    "    \"Beneficio\": [round(region_0.mean(),2), round(region_1.mean(),2), round(region_2.mean(),2)]\n",
    "})"
   ]
  },
  {
   "cell_type": "code",
   "execution_count": 33,
   "id": "dce3a0f5",
   "metadata": {
    "scrolled": false
   },
   "outputs": [
    {
     "data": {
      "image/png": "[encoded data removed]",
      "text/plain": [
       "<Figure size 720x432 with 1 Axes>"
      ]
     },
     "metadata": {
      "needs_background": "light"
     },
     "output_type": "display_data"
    },
    {
     "data": {
      "text/html": [
       "<div>\n",
       "<style scoped>\n",
       "    .dataframe tbody tr th:only-of-type {\n",
       "        vertical-align: middle;\n",
       "    }\n",
       "\n",
       "    .dataframe tbody tr th {\n",
       "        vertical-align: top;\n",
       "    }\n",
       "\n",
       "    .dataframe thead th {\n",
       "        text-align: right;\n",
       "    }\n",
       "</style>\n",
       "<table border=\"1\" class=\"dataframe\">\n",
       "  <thead>\n",
       "    <tr style=\"text-align: right;\">\n",
       "      <th></th>\n",
       "      <th>Región</th>\n",
       "      <th>Beneficio</th>\n",
       "    </tr>\n",
       "  </thead>\n",
       "  <tbody>\n",
       "    <tr>\n",
       "      <th>0</th>\n",
       "      <td>Región 0</td>\n",
       "      <td>4259385.27</td>\n",
       "    </tr>\n",
       "    <tr>\n",
       "      <th>1</th>\n",
       "      <td>Región 1</td>\n",
       "      <td>5152227.73</td>\n",
       "    </tr>\n",
       "    <tr>\n",
       "      <th>2</th>\n",
       "      <td>Región 2</td>\n",
       "      <td>4350083.63</td>\n",
       "    </tr>\n",
       "  </tbody>\n",
       "</table>\n",
       "</div>"
      ],
      "text/plain": [
       "     Región   Beneficio\n",
       "0  Región 0  4259385.27\n",
       "1  Región 1  5152227.73\n",
       "2  Región 2  4350083.63"
      ]
     },
     "execution_count": 33,
     "metadata": {},
     "output_type": "execute_result"
    }
   ],
   "source": [
    "plt.figure(figsize=(10,6))\n",
    "plt.hist(region_0, bins=50, alpha=0.5, color=\"blue\", label=\"R0\")\n",
    "plt.hist(region_1, bins=50, alpha=0.5, color=\"red\", label=\"R1\")\n",
    "plt.hist(region_2, bins=50, alpha=0.5, color=\"green\", label=\"R2\")\n",
    "plt.legend(loc=\"upper right\")\n",
    "plt.title(\"Histograma del beneficio por región\")\n",
    "plt.xlabel(\"10 millones USD\")\n",
    "plt.show()\n",
    "resultados_3"
   ]
  },
  {
   "cell_type": "markdown",
   "id": "db8c03d5",
   "metadata": {},
   "source": [
    "+ La mayor parte de las regiones muestran una distribución normal, a excepción de la región 1 y 2, muestra una relación lineal positiva con con el target"
   ]
  }
 ],
 "metadata": {
  "kernelspec": {
   "display_name": "Python 3",
   "language": "python",
   "name": "python3"
  },
  "language_info": {
   "codemirror_mode": {
    "name": "ipython",
    "version": 3
   },
   "file_extension": ".py",
   "mimetype": "text/x-python",
   "name": "python",
   "nbconvert_exporter": "python",
   "pygments_lexer": "ipython3",
   "version": "3.9.12"
  },
  "toc": {
   "base_numbering": 1,
   "nav_menu": {},
   "number_sections": true,
   "sideBar": true,
   "skip_h1_title": true,
   "title_cell": "Table of Contents",
   "title_sidebar": "Contents",
   "toc_cell": true,
   "toc_position": {
    "height": "calc(100% - 180px)",
    "left": "10px",
    "top": "150px",
    "width": "184px"
   },
   "toc_section_display": true,
   "toc_window_display": false
  },
  "varInspector": {
   "cols": {
    "lenName": 16,
    "lenType": 16,
    "lenVar": 40
   },
   "kernels_config": {
    "python": {
     "delete_cmd_postfix": "",
     "delete_cmd_prefix": "del ",
     "library": "var_list.py",
     "varRefreshCmd": "print(var_dic_list())"
    },
    "r": {
     "delete_cmd_postfix": ") ",
     "delete_cmd_prefix": "rm(",
     "library": "var_list.r",
     "varRefreshCmd": "cat(var_dic_list()) "
    }
   },
   "types_to_exclude": [
    "module",
    "function",
    "builtin_function_or_method",
    "instance",
    "_Feature"
   ],
   "window_display": false
  }
 },
 "nbformat": 4,
 "nbformat_minor": 5
}
